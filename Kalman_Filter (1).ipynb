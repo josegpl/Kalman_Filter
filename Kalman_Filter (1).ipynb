{
  "nbformat": 4,
  "nbformat_minor": 0,
  "metadata": {
    "colab": {
      "name": "Kalman_Filter.ipynb",
      "provenance": []
    },
    "kernelspec": {
      "name": "python3",
      "display_name": "Python 3"
    },
    "language_info": {
      "name": "python"
    }
  },
  "cells": [
    {
      "cell_type": "code",
      "metadata": {
        "id": "Ek3iPyrxA2uK"
      },
      "source": [
        "# parâmetros iniciais\n",
        "a = 2  # Aceleração\n",
        "v = 280 #velocidade\n",
        "t = 1  # tempo"
      ],
      "execution_count": null,
      "outputs": []
    },
    {
      "cell_type": "code",
      "metadata": {
        "id": "Cybo3PPbj8Qa"
      },
      "source": [
        "import numpy as np\n",
        "from numpy.linalg import inv\n",
        "\n",
        "x_medicoes = np.array([4000, 4550, 4860, 5110])\n",
        "v_medicoes = np.array([280, 285, 286, 290])\n",
        "\n",
        "z = np.c_[x_medicoes, v_medicoes]"
      ],
      "execution_count": null,
      "outputs": []
    },
    {
      "cell_type": "code",
      "metadata": {
        "id": "abDwFR86kCQ_"
      },
      "source": [
        "# erros\n",
        "error_est_x = 30\n",
        "error_est_v = 10\n",
        "\n",
        "# erros medição\n",
        "error_obs_x = 25  # incerteza de medição\n",
        "error_obs_v = 6"
      ],
      "execution_count": null,
      "outputs": []
    },
    {
      "cell_type": "code",
      "metadata": {
        "id": "Qf-hzEkZkH_c"
      },
      "source": [
        "def prediction2d(x, v, t, a):\n",
        "    A = np.array([[1, t],\n",
        "                  [0, 1]])\n",
        "    X = np.array([[x],\n",
        "                  [v]])\n",
        "    B = np.array([[0.5 * t ** 2],\n",
        "                  [t]])\n",
        "    X_prime = A.dot(X) + B.dot(a)\n",
        "    return X_prime\n",
        "\n",
        "\n",
        "def covariance2d(sigma1, sigma2):\n",
        "    cov1_2 = sigma1 * sigma2\n",
        "    cov2_1 = sigma2 * sigma1\n",
        "    cov_matrix = np.array([[sigma1 ** 2, cov1_2],\n",
        "                           [cov2_1, sigma2 ** 2]])\n",
        "    return np.diag(np.diag(cov_matrix))\n"
      ],
      "execution_count": null,
      "outputs": []
    },
    {
      "cell_type": "code",
      "metadata": {
        "id": "S25qe1GmkL2j"
      },
      "source": [
        "# Matriz de covariância estimação inicial\n",
        "P = covariance2d(error_est_x, error_est_v)\n",
        "A = np.array([[1, t],\n",
        "              [0, 1]])\n",
        "\n",
        "# Matriz de estado inicial\n",
        "X = np.array([[z[0][0]],\n",
        "              [v]])\n",
        "n = len(z[0])"
      ],
      "execution_count": null,
      "outputs": []
    },
    {
      "cell_type": "code",
      "metadata": {
        "colab": {
          "base_uri": "https://localhost:8080/"
        },
        "id": "qy2l8wlckNGD",
        "outputId": "8daf7288-06bf-44db-9141-105d063bef21"
      },
      "source": [
        "for data in z[1:]:\n",
        "    X = prediction2d(X[0][0], X[1][0], t, a)\n",
        "    P = np.diag(np.diag(A.dot(P).dot(A.T)))\n",
        "\n",
        "    # Ganho de Kalman\n",
        "    H = np.identity(n)\n",
        "    R = covariance2d(error_obs_x, error_obs_v)\n",
        "    S = H.dot(P).dot(H.T) + R\n",
        "    K = P.dot(H).dot(inv(S))\n",
        "\n",
        "    # reshape dos dados\n",
        "    Y = H.dot(data).reshape(n, -1)\n",
        "\n",
        "    # Atualização da matriz de estado\n",
        "    # Combinação entre o estado predito, valores medidos, matriz de covariância e ganho de Kalman\n",
        "    G = X + K.dot(Y - H.dot(X))\n",
        "\n",
        "    # Atualizar matriz de covariância do processo\n",
        "    P = (np.identity(len(K)) - K.dot(H)).dot(P)\n",
        "\n",
        "print(\"Modelo previsto:\\n\", X)\n",
        "print(\"Matriz de Estado:\\n\", G)"
      ],
      "execution_count": null,
      "outputs": [
        {
          "output_type": "stream",
          "text": [
            "Modelo previsto:\n",
            " [[4849.]\n",
            " [ 286.]]\n",
            "Matriz de Estado:\n",
            " [[4926.34914588]\n",
            " [ 287.19047619]]\n"
          ],
          "name": "stdout"
        }
      ]
    },
    {
      "cell_type": "code",
      "metadata": {
        "colab": {
          "base_uri": "https://localhost:8080/"
        },
        "id": "-A3EvHP8_9F2",
        "outputId": "d1ee6839-34e4-4528-9e4f-df94c70b0a07"
      },
      "source": [
        "Y"
      ],
      "execution_count": null,
      "outputs": [
        {
          "output_type": "execute_result",
          "data": {
            "text/plain": [
              "array([[5110.],\n",
              "       [ 290.]])"
            ]
          },
          "metadata": {
            "tags": []
          },
          "execution_count": 7
        }
      ]
    }
  ]
}